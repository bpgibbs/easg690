{
 "cells": [
  {
   "cell_type": "markdown",
   "id": "0fc3f7f3",
   "metadata": {},
   "source": [
    "This file contains my answers and examples for chapter six's self test questions.\n",
    "\n",
    "I used markdown cells when I felt examples weren't appropriate, and I otherwise used code cells."
   ]
  },
  {
   "cell_type": "code",
   "execution_count": 1,
   "id": "ab0b029f",
   "metadata": {},
   "outputs": [],
   "source": [
    "import numpy as np #imports numpy to be used throughout the notebook"
   ]
  },
  {
   "cell_type": "code",
   "execution_count": 2,
   "id": "040ff8d0",
   "metadata": {},
   "outputs": [
    {
     "name": "stdout",
     "output_type": "stream",
     "text": [
      "1. [0 1 2 3 4 5]     2. [0. 0. 0.]     3. [1. 1. 1. 1.]     4. [4 6 8]\n"
     ]
    }
   ],
   "source": [
    "#6-1\n",
    "np.arange(6) #creates an array with six evenly spaces integers starting with 0\n",
    "np.zeros(3) #creates an array with three zeros\n",
    "np.ones(4, dtype='d') #creates an array with four ones with data type 'd' -> 'd' is a double precision floating point\n",
    "np.arange(4,9,2) #creates an array starting at 4 increasing in increments of 2 until the incrementation is > 9. 8 is the last number.\n",
    "\n",
    "print(\"1.\", np.arange(6), \\\n",
    "      \"    2.\", np.zeros(3), \\\n",
    "        \"    3.\", np.ones(4, dtype='d'), \\\n",
    "              \"    4.\", np.arange(4,9,2))#the print statement prints four results"
   ]
  },
  {
   "cell_type": "code",
   "execution_count": 3,
   "id": "ff0076e8",
   "metadata": {},
   "outputs": [
    {
     "name": "stdout",
     "output_type": "stream",
     "text": [
      "8\n",
      "4\n"
     ]
    }
   ],
   "source": [
    "#6-2\n",
    "#the numpy size function simply gives the number of elements in your array. Examples:\n",
    "print(np.size(np.array([2,3,5,7,11,13,17,19]))) #array contains 8 elements, so size returns 8\n",
    "print(np.size(np.array([\"hello\",\"there\",\"general\",\"kenobi\"]))) #array contains 4 elements -- works different data types e.g. strings"
   ]
  },
  {
   "cell_type": "markdown",
   "id": "67e9c4cc",
   "metadata": {},
   "source": [
    "6-3\n",
    "data_temp = np.zeros(np.size(data), dtype=data.dtype.char)"
   ]
  },
  {
   "cell_type": "code",
   "execution_count": 4,
   "id": "b8e63546",
   "metadata": {},
   "outputs": [
    {
     "name": "stdout",
     "output_type": "stream",
     "text": [
      "[0.5        0.84147098]\n",
      "0.5235987755982988\n"
     ]
    }
   ],
   "source": [
    "'''6-4\n",
    "This line will create a new array, and \n",
    "elements of this array would be the sin \n",
    "corresponding elements of data divided by \n",
    "the maximum value of data. Example:'''\n",
    "\n",
    "data = np.array([np.pi,6]) #creates data array -- numbers chosen to test first and last values with unit circle\n",
    "data1 = np.sin(data / np.max(data)) #line described in my comment and shown in 6-4\n",
    "print(data1) #prints result of line from textbook's result\n",
    "print(np.pi/6) #result should be essentially the same as first element of data1"
   ]
  },
  {
   "cell_type": "code",
   "execution_count": 5,
   "id": "8bab06cb",
   "metadata": {},
   "outputs": [
    {
     "name": "stdout",
     "output_type": "stream",
     "text": [
      "2\n",
      "4\n",
      " \n",
      "0\n",
      "1\n",
      "2\n",
      " \n",
      "1\n",
      "1\n",
      "2\n",
      "3\n",
      "5\n"
     ]
    }
   ],
   "source": [
    "'''6-5\n",
    "For four loop is a looping structure that lets the user repeat a task without having to write a \n",
    "lot of code. In the syntax of the for loop, the user will assign a local variable, the iterator, \n",
    "that will increse in value through a range by a specified iteration. Alternately, a list can be \n",
    "used that the iterator will be assigned to throughout the loop. \n",
    "'''\n",
    "\n",
    "#let's suppose I wanted to print every value from two to five in increments of two\n",
    "for i in range(2,5,2):\n",
    "    print(i)\n",
    "\n",
    "print(\" \")#organization of printing\n",
    "\n",
    "for i in range(3): #iteration is assumed to be 1, and loop runs 3 times stating at zero\n",
    "    print(i)\n",
    "\n",
    "print(\" \")#organization of printing\n",
    "\n",
    "for i in [1,1,2,3,5]:\n",
    "    print(i) #prints fibonacci sequence"
   ]
  },
  {
   "cell_type": "code",
   "execution_count": 6,
   "id": "56f5f9de",
   "metadata": {},
   "outputs": [
    {
     "name": "stdout",
     "output_type": "stream",
     "text": [
      "120\n"
     ]
    }
   ],
   "source": [
    "#6-6\n",
    "data = np.array([5,4,3,2,1]) #defines initial array... I'm calculating a fatorial of five in my example\n",
    "data_product = 1 #since we are calculating a product, 1 will define the variable but not interfere with calculation\n",
    "for n in range(np.size(data)): #iterates in the range of the size of data\n",
    "    data_product = data_product * data[n] #calculates the product of all elements of the data\n",
    "print(data_product) #prints product"
   ]
  },
  {
   "cell_type": "markdown",
   "id": "de9c857d",
   "metadata": {},
   "source": [
    "6-7\n",
    "\n",
    "I would use if-elif. \n",
    "\n",
    "The first if statement would test if the variable is equal to one of the six values, then five if-elif statements could be used to see if the variable is equal to the other five values. The block of code would end with an else statement that does something (probably call pass) if the variable is not equal to any of the six values."
   ]
  },
  {
   "cell_type": "code",
   "execution_count": 7,
   "id": "b4bf9d8b",
   "metadata": {},
   "outputs": [
    {
     "name": "stdout",
     "output_type": "stream",
     "text": [
      "81.33333333333333\n"
     ]
    }
   ],
   "source": [
    "#6-8\n",
    "velocity = np.array([46,72,81,32,7,91]) #creates array with 6 different velocities\n",
    "threshold = 70 #establishes threshold at 70\n",
    "over_threshold_avg = 0 #establishes an accumulator that will be used for average\n",
    "number_over = 0 #keeps track of number of elements over threshold\n",
    "\n",
    "for k in range(np.size(velocity)): #iterates in the range of the size of data\n",
    "    if velocity[k] > threshold: #checks if an element of velocity is over threshold\n",
    "        over_threshold_avg += velocity[k] #accumulates numbers over threshold\n",
    "        number_over+=1 #keeps track of quantity of elements over threshold to compute average\n",
    "\n",
    "if number_over == 0:\n",
    "    number_over = 1 #will make result printed 0 if no elements are over threshold\n",
    "\n",
    "over_threshold_avg = over_threshold_avg/number_over #computes average of numbers over threshold\n",
    "\n",
    "print(over_threshold_avg) #prints average of numbers over threshold"
   ]
  },
  {
   "cell_type": "markdown",
   "id": "f79b758d",
   "metadata": {},
   "source": [
    "6-9\n",
    "\n",
    "The purpose of the docstring is to describe a function. The docstring comes right after the \"def\" line in between triple quotes, and it should stay inside the indentation of the body of the function. THe first line describes what the function does in one sentance, and the rest of the docstring consists of a paragraph or paragraphs of elaboration."
   ]
  },
  {
   "cell_type": "markdown",
   "id": "b39bfd1a",
   "metadata": {},
   "source": [
    "6-10\n",
    "\n",
    "Writing many lines of code at once increases the probability of error. If one writes a couple of lines of code, tests them, and then continues, mistakes can be caught aws they come and the user will not have to do a ton of debugging on large blocks of code. "
   ]
  }
 ],
 "metadata": {
  "kernelspec": {
   "display_name": "big_four",
   "language": "python",
   "name": "python3"
  },
  "language_info": {
   "codemirror_mode": {
    "name": "ipython",
    "version": 3
   },
   "file_extension": ".py",
   "mimetype": "text/x-python",
   "name": "python",
   "nbconvert_exporter": "python",
   "pygments_lexer": "ipython3",
   "version": "3.12.8"
  }
 },
 "nbformat": 4,
 "nbformat_minor": 5
}
