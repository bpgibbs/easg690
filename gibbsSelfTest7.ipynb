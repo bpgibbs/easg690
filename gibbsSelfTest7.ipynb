{
 "cells": [
  {
   "cell_type": "code",
   "execution_count": 1,
   "id": "5ef189dd",
   "metadata": {},
   "outputs": [],
   "source": [
    "import numpy as np"
   ]
  },
  {
   "cell_type": "markdown",
   "id": "04fc13e5",
   "metadata": {},
   "source": [
    "7-1\n",
    "Veiwing the two deminsional arrays as matrixes, the shape tuple of a two-deminsional array will display rows and columns as such: (#rows, #columns). The function only works on a homogenous arrays, meaning each array of n-demensions must contain the same number of elements. One could also say that the first nuber of the touple is the number of arrays in the touple, and the second number are the elements inside said arrays. For the array [[2,3,5] [5,7,11]], the shape touple would be (2,3)"
   ]
  },
  {
   "cell_type": "code",
   "execution_count": 2,
   "id": "cbd47da3",
   "metadata": {},
   "outputs": [
    {
     "name": "stdout",
     "output_type": "stream",
     "text": [
      "(3, 4)\n"
     ]
    }
   ],
   "source": [
    "'''7-2'''\n",
    "#provided code\n",
    "ppm = np.array([[ 20.80, 20.71, 21.72, 18.81],[ 19.91, 18.42, 20.73, 20.32],\n",
    "                [ 17.32, 21.74, 23.19, 19.98]])\n",
    "\n",
    "shape_of_ppm = np.shape(ppm) #code to obtain the shape, assigned to a variable\n",
    "print(shape_of_ppm) #will print what it is equal to: (3,4)"
   ]
  },
  {
   "cell_type": "code",
   "execution_count": 3,
   "id": "34ac2dc3",
   "metadata": {},
   "outputs": [
    {
     "name": "stdout",
     "output_type": "stream",
     "text": [
      "[[ 2  3]\n",
      " [ 5  7]\n",
      " [11 13]]\n"
     ]
    }
   ],
   "source": [
    "'''7-3'''\n",
    "values = np.array([[2,3],[5,7],[11,13]])\n",
    "print(values)"
   ]
  },
  {
   "cell_type": "code",
   "execution_count": 4,
   "id": "28658a93",
   "metadata": {},
   "outputs": [
    {
     "name": "stdout",
     "output_type": "stream",
     "text": [
      "[[0. 1. 2. 3.]\n",
      " [4. 5. 6. 7.]]\n"
     ]
    }
   ],
   "source": [
    "'''7-4'''\n",
    "#creates four-column floating point array called factors\n",
    "factors = np.array([[0,1,2,3],[4,5,6,7]],dtype='d')\n",
    "print(factors) #prints the factors array"
   ]
  },
  {
   "cell_type": "code",
   "execution_count": null,
   "id": "3b7c0ba3",
   "metadata": {},
   "outputs": [
    {
     "name": "stdout",
     "output_type": "stream",
     "text": [
      "[[7 7 7 7 7]\n",
      " [7 7 7 7 7]\n",
      " [7 7 7 7 7]]\n"
     ]
    }
   ],
   "source": [
    "'''7-5'''\n",
    "#creates three row five column array filled with sevens\n",
    "seven = np.array([[7,7,7,7,7],[7,7,7,7,7],[7,7,7,7,7]],dtype='int')\n",
    "print(seven) #prints the array"
   ]
  },
  {
   "cell_type": "code",
   "execution_count": null,
   "id": "9903de64",
   "metadata": {},
   "outputs": [
    {
     "name": "stdout",
     "output_type": "stream",
     "text": [
      "6.0\n",
      "\n",
      "[5. 6. 7. 3.]\n",
      "\n",
      "[[6. 7.]\n",
      " [5. 6.]]\n",
      "\n",
      "[[5. 6. 7. 3.]\n",
      " [4. 5. 6. 7.]]\n"
     ]
    }
   ],
   "source": [
    "'''7-6'''\n",
    "value = factors[1,2] #saves second row, third column of factors\n",
    "first_row = factors[0] #saves first row of factors\n",
    "subset = factors[0:,1:3] #subarray contains all (aka both) rows and the 2nd and 3rd columns of factors\n",
    "\n",
    "#first three elements of factors equals last three elements in last row of factors\n",
    "factors[0,0:3] = factors[1,-3:]\n",
    "\n",
    "\n",
    "#tests\n",
    "print(value)\n",
    "print(\"\")\n",
    "print(first_row)\n",
    "print(\"\")\n",
    "print(subset)\n",
    "print(\"\")\n",
    "print(factors)"
   ]
  },
  {
   "cell_type": "code",
   "execution_count": null,
   "id": "19e9780f",
   "metadata": {},
   "outputs": [
    {
     "name": "stdout",
     "output_type": "stream",
     "text": [
      "[[20800. 20710. 21720. 18810.]\n",
      " [19910. 18420. 20730. 20320.]\n",
      " [17320. 21740. 23190. 19980.]]\n"
     ]
    }
   ],
   "source": [
    "'''7-7'''\n",
    "ppb = ppm*1000\n",
    "print(ppb)"
   ]
  },
  {
   "cell_type": "code",
   "execution_count": null,
   "id": "e65d24dd",
   "metadata": {},
   "outputs": [
    {
     "name": "stdout",
     "output_type": "stream",
     "text": [
      "[[ 2.5  5. ]\n",
      " [ 6.5 13. ]]\n"
     ]
    }
   ],
   "source": [
    "'''7-8'''\n",
    "#creates arbitrary datasets\n",
    "data1 = np.array([[3,6],[4,8]])\n",
    "data2 = np.array([[2,4],[9,18]])\n",
    "\n",
    "#create new 2 deminsional array of same size\n",
    "avg_between_both = np.zeros((2,2))\n",
    "\n",
    "for i in range(2): #iterates by row\n",
    "    for j in range(2): #iterates by column\n",
    "        avg_between_both[i][j] = (data1[i][j]+data2[i][j])/2 #computes average\n",
    "\n",
    "print(avg_between_both) #prints average"
   ]
  },
  {
   "cell_type": "code",
   "execution_count": null,
   "id": "29b6d0d0",
   "metadata": {},
   "outputs": [
    {
     "name": "stdout",
     "output_type": "stream",
     "text": [
      "3333333333333333333 , 52451\n"
     ]
    }
   ],
   "source": [
    "'''7-9'''\n",
    "\n",
    "#creates and arbitrary data3 two deminsional array\n",
    "data3 = np.array([[123,52451,67],[2,3333333333333333333,27]])\n",
    "\n",
    "#uses numpy max function to assign max to max_data3\n",
    "max_data3 = np.max(data3)\n",
    "\n",
    "max2_data3 = 0 #creates a variable max2_data3 to be the second max... assigns 0 as placeholder\n",
    "\n",
    "for k in range(2): #iterates through rows\n",
    "    for n in range(3): #iterates through columns\n",
    "        #checks element is greater than last, 2nd greatest\n",
    "        if data3[k][n] > max2_data3 and data3[k][n] != max_data3: \n",
    "            max2_data3 = data3[k][n] #assigns second maximum\n",
    "\n",
    "print(max_data3, \",\", max2_data3)\n",
    "\n",
    "        "
   ]
  },
  {
   "cell_type": "code",
   "execution_count": null,
   "id": "4aa3177d",
   "metadata": {},
   "outputs": [],
   "source": []
  }
 ],
 "metadata": {
  "kernelspec": {
   "display_name": "big_four",
   "language": "python",
   "name": "python3"
  },
  "language_info": {
   "codemirror_mode": {
    "name": "ipython",
    "version": 3
   },
   "file_extension": ".py",
   "mimetype": "text/x-python",
   "name": "python",
   "nbconvert_exporter": "python",
   "pygments_lexer": "ipython3",
   "version": "3.12.8"
  }
 },
 "nbformat": 4,
 "nbformat_minor": 5
}
